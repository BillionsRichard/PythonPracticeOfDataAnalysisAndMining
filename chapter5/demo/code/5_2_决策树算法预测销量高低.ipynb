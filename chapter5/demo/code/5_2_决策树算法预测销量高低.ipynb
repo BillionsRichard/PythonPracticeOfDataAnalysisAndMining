{
 "cells": [
  {
   "cell_type": "code",
   "execution_count": 1,
   "metadata": {},
   "outputs": [],
   "source": [
    "import pandas as pd"
   ]
  },
  {
   "cell_type": "code",
   "execution_count": 18,
   "metadata": {},
   "outputs": [],
   "source": [
    "filename = \"../data/sales_data.xls\""
   ]
  },
  {
   "cell_type": "code",
   "execution_count": 19,
   "metadata": {},
   "outputs": [],
   "source": [
    "data = pd.read_excel(filename, index_col='序号')"
   ]
  },
  {
   "cell_type": "code",
   "execution_count": 20,
   "metadata": {},
   "outputs": [
    {
     "data": {
      "text/html": [
       "<div>\n",
       "<style scoped>\n",
       "    .dataframe tbody tr th:only-of-type {\n",
       "        vertical-align: middle;\n",
       "    }\n",
       "\n",
       "    .dataframe tbody tr th {\n",
       "        vertical-align: top;\n",
       "    }\n",
       "\n",
       "    .dataframe thead th {\n",
       "        text-align: right;\n",
       "    }\n",
       "</style>\n",
       "<table border=\"1\" class=\"dataframe\">\n",
       "  <thead>\n",
       "    <tr style=\"text-align: right;\">\n",
       "      <th></th>\n",
       "      <th>天气</th>\n",
       "      <th>是否周末</th>\n",
       "      <th>是否有促销</th>\n",
       "      <th>销量</th>\n",
       "    </tr>\n",
       "    <tr>\n",
       "      <th>序号</th>\n",
       "      <th></th>\n",
       "      <th></th>\n",
       "      <th></th>\n",
       "      <th></th>\n",
       "    </tr>\n",
       "  </thead>\n",
       "  <tbody>\n",
       "    <tr>\n",
       "      <th>1</th>\n",
       "      <td>坏</td>\n",
       "      <td>是</td>\n",
       "      <td>是</td>\n",
       "      <td>高</td>\n",
       "    </tr>\n",
       "    <tr>\n",
       "      <th>2</th>\n",
       "      <td>坏</td>\n",
       "      <td>是</td>\n",
       "      <td>是</td>\n",
       "      <td>高</td>\n",
       "    </tr>\n",
       "    <tr>\n",
       "      <th>3</th>\n",
       "      <td>坏</td>\n",
       "      <td>是</td>\n",
       "      <td>是</td>\n",
       "      <td>高</td>\n",
       "    </tr>\n",
       "    <tr>\n",
       "      <th>4</th>\n",
       "      <td>坏</td>\n",
       "      <td>否</td>\n",
       "      <td>是</td>\n",
       "      <td>高</td>\n",
       "    </tr>\n",
       "    <tr>\n",
       "      <th>5</th>\n",
       "      <td>坏</td>\n",
       "      <td>是</td>\n",
       "      <td>是</td>\n",
       "      <td>高</td>\n",
       "    </tr>\n",
       "    <tr>\n",
       "      <th>6</th>\n",
       "      <td>坏</td>\n",
       "      <td>否</td>\n",
       "      <td>是</td>\n",
       "      <td>高</td>\n",
       "    </tr>\n",
       "    <tr>\n",
       "      <th>7</th>\n",
       "      <td>坏</td>\n",
       "      <td>是</td>\n",
       "      <td>否</td>\n",
       "      <td>高</td>\n",
       "    </tr>\n",
       "    <tr>\n",
       "      <th>8</th>\n",
       "      <td>好</td>\n",
       "      <td>是</td>\n",
       "      <td>是</td>\n",
       "      <td>高</td>\n",
       "    </tr>\n",
       "    <tr>\n",
       "      <th>9</th>\n",
       "      <td>好</td>\n",
       "      <td>是</td>\n",
       "      <td>否</td>\n",
       "      <td>高</td>\n",
       "    </tr>\n",
       "    <tr>\n",
       "      <th>10</th>\n",
       "      <td>好</td>\n",
       "      <td>是</td>\n",
       "      <td>是</td>\n",
       "      <td>高</td>\n",
       "    </tr>\n",
       "    <tr>\n",
       "      <th>11</th>\n",
       "      <td>好</td>\n",
       "      <td>是</td>\n",
       "      <td>是</td>\n",
       "      <td>高</td>\n",
       "    </tr>\n",
       "    <tr>\n",
       "      <th>12</th>\n",
       "      <td>好</td>\n",
       "      <td>是</td>\n",
       "      <td>是</td>\n",
       "      <td>高</td>\n",
       "    </tr>\n",
       "    <tr>\n",
       "      <th>13</th>\n",
       "      <td>好</td>\n",
       "      <td>是</td>\n",
       "      <td>是</td>\n",
       "      <td>高</td>\n",
       "    </tr>\n",
       "    <tr>\n",
       "      <th>14</th>\n",
       "      <td>坏</td>\n",
       "      <td>是</td>\n",
       "      <td>是</td>\n",
       "      <td>低</td>\n",
       "    </tr>\n",
       "    <tr>\n",
       "      <th>15</th>\n",
       "      <td>好</td>\n",
       "      <td>否</td>\n",
       "      <td>是</td>\n",
       "      <td>高</td>\n",
       "    </tr>\n",
       "    <tr>\n",
       "      <th>16</th>\n",
       "      <td>好</td>\n",
       "      <td>否</td>\n",
       "      <td>是</td>\n",
       "      <td>高</td>\n",
       "    </tr>\n",
       "    <tr>\n",
       "      <th>17</th>\n",
       "      <td>好</td>\n",
       "      <td>否</td>\n",
       "      <td>是</td>\n",
       "      <td>高</td>\n",
       "    </tr>\n",
       "    <tr>\n",
       "      <th>18</th>\n",
       "      <td>好</td>\n",
       "      <td>否</td>\n",
       "      <td>是</td>\n",
       "      <td>高</td>\n",
       "    </tr>\n",
       "    <tr>\n",
       "      <th>19</th>\n",
       "      <td>好</td>\n",
       "      <td>否</td>\n",
       "      <td>否</td>\n",
       "      <td>高</td>\n",
       "    </tr>\n",
       "    <tr>\n",
       "      <th>20</th>\n",
       "      <td>坏</td>\n",
       "      <td>否</td>\n",
       "      <td>否</td>\n",
       "      <td>低</td>\n",
       "    </tr>\n",
       "    <tr>\n",
       "      <th>21</th>\n",
       "      <td>坏</td>\n",
       "      <td>否</td>\n",
       "      <td>是</td>\n",
       "      <td>低</td>\n",
       "    </tr>\n",
       "    <tr>\n",
       "      <th>22</th>\n",
       "      <td>坏</td>\n",
       "      <td>否</td>\n",
       "      <td>是</td>\n",
       "      <td>低</td>\n",
       "    </tr>\n",
       "    <tr>\n",
       "      <th>23</th>\n",
       "      <td>坏</td>\n",
       "      <td>否</td>\n",
       "      <td>是</td>\n",
       "      <td>低</td>\n",
       "    </tr>\n",
       "    <tr>\n",
       "      <th>24</th>\n",
       "      <td>坏</td>\n",
       "      <td>否</td>\n",
       "      <td>否</td>\n",
       "      <td>低</td>\n",
       "    </tr>\n",
       "    <tr>\n",
       "      <th>25</th>\n",
       "      <td>坏</td>\n",
       "      <td>是</td>\n",
       "      <td>否</td>\n",
       "      <td>低</td>\n",
       "    </tr>\n",
       "    <tr>\n",
       "      <th>26</th>\n",
       "      <td>好</td>\n",
       "      <td>否</td>\n",
       "      <td>是</td>\n",
       "      <td>低</td>\n",
       "    </tr>\n",
       "    <tr>\n",
       "      <th>27</th>\n",
       "      <td>好</td>\n",
       "      <td>否</td>\n",
       "      <td>是</td>\n",
       "      <td>低</td>\n",
       "    </tr>\n",
       "    <tr>\n",
       "      <th>28</th>\n",
       "      <td>坏</td>\n",
       "      <td>否</td>\n",
       "      <td>否</td>\n",
       "      <td>低</td>\n",
       "    </tr>\n",
       "    <tr>\n",
       "      <th>29</th>\n",
       "      <td>坏</td>\n",
       "      <td>否</td>\n",
       "      <td>否</td>\n",
       "      <td>低</td>\n",
       "    </tr>\n",
       "    <tr>\n",
       "      <th>30</th>\n",
       "      <td>好</td>\n",
       "      <td>否</td>\n",
       "      <td>否</td>\n",
       "      <td>低</td>\n",
       "    </tr>\n",
       "    <tr>\n",
       "      <th>31</th>\n",
       "      <td>坏</td>\n",
       "      <td>是</td>\n",
       "      <td>否</td>\n",
       "      <td>低</td>\n",
       "    </tr>\n",
       "    <tr>\n",
       "      <th>32</th>\n",
       "      <td>好</td>\n",
       "      <td>否</td>\n",
       "      <td>是</td>\n",
       "      <td>低</td>\n",
       "    </tr>\n",
       "    <tr>\n",
       "      <th>33</th>\n",
       "      <td>好</td>\n",
       "      <td>否</td>\n",
       "      <td>否</td>\n",
       "      <td>低</td>\n",
       "    </tr>\n",
       "    <tr>\n",
       "      <th>34</th>\n",
       "      <td>好</td>\n",
       "      <td>否</td>\n",
       "      <td>否</td>\n",
       "      <td>低</td>\n",
       "    </tr>\n",
       "  </tbody>\n",
       "</table>\n",
       "</div>"
      ],
      "text/plain": [
       "   天气 是否周末 是否有促销 销量\n",
       "序号                 \n",
       "1   坏    是     是  高\n",
       "2   坏    是     是  高\n",
       "3   坏    是     是  高\n",
       "4   坏    否     是  高\n",
       "5   坏    是     是  高\n",
       "6   坏    否     是  高\n",
       "7   坏    是     否  高\n",
       "8   好    是     是  高\n",
       "9   好    是     否  高\n",
       "10  好    是     是  高\n",
       "11  好    是     是  高\n",
       "12  好    是     是  高\n",
       "13  好    是     是  高\n",
       "14  坏    是     是  低\n",
       "15  好    否     是  高\n",
       "16  好    否     是  高\n",
       "17  好    否     是  高\n",
       "18  好    否     是  高\n",
       "19  好    否     否  高\n",
       "20  坏    否     否  低\n",
       "21  坏    否     是  低\n",
       "22  坏    否     是  低\n",
       "23  坏    否     是  低\n",
       "24  坏    否     否  低\n",
       "25  坏    是     否  低\n",
       "26  好    否     是  低\n",
       "27  好    否     是  低\n",
       "28  坏    否     否  低\n",
       "29  坏    否     否  低\n",
       "30  好    否     否  低\n",
       "31  坏    是     否  低\n",
       "32  好    否     是  低\n",
       "33  好    否     否  低\n",
       "34  好    否     否  低"
      ]
     },
     "execution_count": 20,
     "metadata": {},
     "output_type": "execute_result"
    }
   ],
   "source": [
    "data"
   ]
  },
  {
   "cell_type": "code",
   "execution_count": 21,
   "metadata": {},
   "outputs": [],
   "source": [
    "data[data=='好']=1\n",
    "data[data=='是']=1\n",
    "data[data=='高']=1"
   ]
  },
  {
   "cell_type": "code",
   "execution_count": 24,
   "metadata": {},
   "outputs": [],
   "source": [
    "data[data!=1] = -1"
   ]
  },
  {
   "cell_type": "code",
   "execution_count": 39,
   "metadata": {},
   "outputs": [
    {
     "name": "stderr",
     "output_type": "stream",
     "text": [
      "d:\\ProgramData\\Anaconda3\\lib\\site-packages\\ipykernel_launcher.py:1: FutureWarning: Method .as_matrix will be removed in a future version. Use .values instead.\n",
      "  \"\"\"Entry point for launching an IPython kernel.\n",
      "d:\\ProgramData\\Anaconda3\\lib\\site-packages\\ipykernel_launcher.py:2: FutureWarning: Method .as_matrix will be removed in a future version. Use .values instead.\n",
      "  \n"
     ]
    }
   ],
   "source": [
    "x = data.iloc[:, :3].as_matrix().astype(int)\n",
    "y = data.iloc[:, 3].as_matrix().astype(int)"
   ]
  },
  {
   "cell_type": "code",
   "execution_count": 40,
   "metadata": {},
   "outputs": [
    {
     "data": {
      "text/plain": [
       "(numpy.ndarray, numpy.ndarray)"
      ]
     },
     "execution_count": 40,
     "metadata": {},
     "output_type": "execute_result"
    }
   ],
   "source": [
    "type(x),type(y)"
   ]
  },
  {
   "cell_type": "code",
   "execution_count": 42,
   "metadata": {},
   "outputs": [
    {
     "data": {
      "text/plain": [
       "(array([[-1,  1,  1],\n",
       "        [-1,  1,  1],\n",
       "        [-1,  1,  1],\n",
       "        [-1, -1,  1],\n",
       "        [-1,  1,  1],\n",
       "        [-1, -1,  1],\n",
       "        [-1,  1, -1],\n",
       "        [ 1,  1,  1],\n",
       "        [ 1,  1, -1],\n",
       "        [ 1,  1,  1],\n",
       "        [ 1,  1,  1],\n",
       "        [ 1,  1,  1],\n",
       "        [ 1,  1,  1],\n",
       "        [-1,  1,  1],\n",
       "        [ 1, -1,  1],\n",
       "        [ 1, -1,  1],\n",
       "        [ 1, -1,  1],\n",
       "        [ 1, -1,  1],\n",
       "        [ 1, -1, -1],\n",
       "        [-1, -1, -1],\n",
       "        [-1, -1,  1],\n",
       "        [-1, -1,  1],\n",
       "        [-1, -1,  1],\n",
       "        [-1, -1, -1],\n",
       "        [-1,  1, -1],\n",
       "        [ 1, -1,  1],\n",
       "        [ 1, -1,  1],\n",
       "        [-1, -1, -1],\n",
       "        [-1, -1, -1],\n",
       "        [ 1, -1, -1],\n",
       "        [-1,  1, -1],\n",
       "        [ 1, -1,  1],\n",
       "        [ 1, -1, -1],\n",
       "        [ 1, -1, -1]]),\n",
       " array([ 1,  1,  1,  1,  1,  1,  1,  1,  1,  1,  1,  1,  1, -1,  1,  1,  1,\n",
       "         1,  1, -1, -1, -1, -1, -1, -1, -1, -1, -1, -1, -1, -1, -1, -1, -1]))"
      ]
     },
     "execution_count": 42,
     "metadata": {},
     "output_type": "execute_result"
    }
   ],
   "source": [
    "x,y"
   ]
  },
  {
   "cell_type": "code",
   "execution_count": 43,
   "metadata": {},
   "outputs": [],
   "source": [
    "from sklearn.tree import DecisionTreeClassifier as DTC"
   ]
  },
  {
   "cell_type": "code",
   "execution_count": 44,
   "metadata": {},
   "outputs": [],
   "source": [
    "dtc = DTC(criterion='entropy')"
   ]
  },
  {
   "cell_type": "code",
   "execution_count": 45,
   "metadata": {},
   "outputs": [
    {
     "data": {
      "text/plain": [
       "DecisionTreeClassifier(ccp_alpha=0.0, class_weight=None, criterion='entropy',\n",
       "                       max_depth=None, max_features=None, max_leaf_nodes=None,\n",
       "                       min_impurity_decrease=0.0, min_impurity_split=None,\n",
       "                       min_samples_leaf=1, min_samples_split=2,\n",
       "                       min_weight_fraction_leaf=0.0, presort='deprecated',\n",
       "                       random_state=None, splitter='best')"
      ]
     },
     "execution_count": 45,
     "metadata": {},
     "output_type": "execute_result"
    }
   ],
   "source": [
    "dtc.fit(x, y)"
   ]
  },
  {
   "cell_type": "code",
   "execution_count": 46,
   "metadata": {},
   "outputs": [],
   "source": [
    "from sklearn.tree import export_graphviz"
   ]
  },
  {
   "cell_type": "code",
   "execution_count": 49,
   "metadata": {},
   "outputs": [],
   "source": [
    "from six import StringIO"
   ]
  },
  {
   "cell_type": "code",
   "execution_count": 51,
   "metadata": {},
   "outputs": [],
   "source": [
    "with open(\"tree.dot\", \"w\") as f:\n",
    "    f = export_graphviz(dtc, feature_names=data.iloc[:, :3].columns, out_file=f)"
   ]
  },
  {
   "cell_type": "code",
   "execution_count": null,
   "metadata": {},
   "outputs": [],
   "source": []
  }
 ],
 "metadata": {
  "kernelspec": {
   "display_name": "Python 3",
   "language": "python",
   "name": "python3"
  },
  "language_info": {
   "codemirror_mode": {
    "name": "ipython",
    "version": 3
   },
   "file_extension": ".py",
   "mimetype": "text/x-python",
   "name": "python",
   "nbconvert_exporter": "python",
   "pygments_lexer": "ipython3",
   "version": "3.7.4"
  }
 },
 "nbformat": 4,
 "nbformat_minor": 2
}
