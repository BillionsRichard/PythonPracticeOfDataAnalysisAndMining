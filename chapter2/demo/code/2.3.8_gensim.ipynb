{
 "cells": [
  {
   "cell_type": "code",
   "execution_count": 2,
   "metadata": {},
   "outputs": [],
   "source": [
    "import gensim"
   ]
  },
  {
   "cell_type": "code",
   "execution_count": 3,
   "metadata": {},
   "outputs": [],
   "source": [
    "sentences = [['first', 'sentence'],\n",
    "            'second', 'sentence']\n",
    "model = gensim.models.Word2Vec(sentences, min_count=1)"
   ]
  },
  {
   "cell_type": "code",
   "execution_count": 5,
   "metadata": {},
   "outputs": [
    {
     "name": "stdout",
     "output_type": "stream",
     "text": [
      "[-3.1377673e-03 -9.7968953e-04  2.3266291e-03  4.8828474e-03\n",
      " -4.1081030e-03  4.9292659e-03 -1.0994331e-03 -1.0780597e-03\n",
      "  3.6823251e-03  3.7703785e-04 -4.2821756e-03  4.0697679e-03\n",
      "  9.6160232e-04  9.8725979e-04  1.9860871e-03  3.5108551e-03\n",
      " -4.1813720e-03 -3.3812123e-04  9.1723114e-04  2.4555312e-03\n",
      "  1.9890422e-03 -3.4559849e-03  4.5047295e-03  1.4792351e-03\n",
      "  1.8653424e-03 -1.8730629e-03  1.6680909e-03 -3.8672271e-03\n",
      "  1.9320842e-03  2.7733340e-03 -1.4520533e-03 -3.0911264e-03\n",
      " -3.2086861e-03  2.1300881e-04  9.8314020e-04  3.5702446e-03\n",
      " -2.5771880e-03  6.9873588e-04 -3.8651393e-03 -1.4294640e-04\n",
      " -1.5291900e-03  1.6836495e-03 -1.5623099e-03  3.3179403e-03\n",
      " -4.9185115e-03  2.0478291e-03  2.4371536e-03  2.3486246e-03\n",
      " -1.1160785e-03  9.2515571e-04  3.0654231e-03  4.0364885e-03\n",
      "  2.3294340e-03  3.2019205e-03  6.0587941e-04 -3.1226254e-03\n",
      "  3.6264274e-03  1.9500345e-03  1.2034540e-06  3.3033669e-03\n",
      " -2.5925960e-03  2.7286327e-03  3.9859889e-03 -2.5723500e-03\n",
      "  1.0693300e-03 -9.7293395e-04  1.9816374e-03  3.7279053e-05\n",
      "  6.7333807e-04 -8.1181293e-04  3.9517987e-03  3.2939967e-03\n",
      "  2.7150277e-03  2.3738369e-03  4.9538342e-03  1.6084223e-03\n",
      "  1.5752611e-04  2.1708154e-03  1.0891033e-03  3.3439740e-03\n",
      "  1.2874064e-03 -3.7330124e-03 -2.0359945e-03  2.5557699e-03\n",
      "  2.8082333e-03  3.1418905e-03  2.0039035e-03  4.0474604e-03\n",
      " -8.5834385e-05  4.8796185e-03 -3.2886863e-03  3.9948551e-03\n",
      "  4.8025916e-03  3.2106831e-03  3.3410999e-03  3.0046625e-03\n",
      " -4.9740291e-04  7.8872725e-04 -3.5786247e-03 -1.9736951e-03] 100\n"
     ]
    },
    {
     "name": "stderr",
     "output_type": "stream",
     "text": [
      "D:\\ProgramData\\Anaconda3\\lib\\site-packages\\ipykernel_launcher.py:1: DeprecationWarning: Call to deprecated `__getitem__` (Method will be removed in 4.0.0, use self.wv.__getitem__() instead).\n",
      "  \"\"\"Entry point for launching an IPython kernel.\n"
     ]
    }
   ],
   "source": [
    "print(model['sentence'], len(model['sentence']))"
   ]
  },
  {
   "cell_type": "code",
   "execution_count": null,
   "metadata": {},
   "outputs": [],
   "source": []
  }
 ],
 "metadata": {
  "kernelspec": {
   "display_name": "Python 3",
   "language": "python",
   "name": "python3"
  },
  "language_info": {
   "codemirror_mode": {
    "name": "ipython",
    "version": 3
   },
   "file_extension": ".py",
   "mimetype": "text/x-python",
   "name": "python",
   "nbconvert_exporter": "python",
   "pygments_lexer": "ipython3",
   "version": "3.7.4"
  }
 },
 "nbformat": 4,
 "nbformat_minor": 2
}
