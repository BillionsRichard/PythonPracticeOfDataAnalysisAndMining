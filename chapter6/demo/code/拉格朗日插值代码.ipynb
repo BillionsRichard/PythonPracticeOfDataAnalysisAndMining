{
 "cells": [
  {
   "cell_type": "code",
   "execution_count": 2,
   "metadata": {},
   "outputs": [],
   "source": [
    "import pandas as pd\n",
    "import numpy as np"
   ]
  },
  {
   "cell_type": "code",
   "execution_count": 3,
   "metadata": {},
   "outputs": [],
   "source": [
    "from scipy.interpolate import lagrange"
   ]
  },
  {
   "cell_type": "code",
   "execution_count": 4,
   "metadata": {},
   "outputs": [],
   "source": [
    "infile = \"../data/missing_data.xls\""
   ]
  },
  {
   "cell_type": "code",
   "execution_count": 5,
   "metadata": {},
   "outputs": [],
   "source": [
    "outfile = \"../tmp/missing_data_processed.xls\""
   ]
  },
  {
   "cell_type": "code",
   "execution_count": 6,
   "metadata": {},
   "outputs": [],
   "source": [
    "data = pd.read_excel(infile, header=None)"
   ]
  },
  {
   "cell_type": "code",
   "execution_count": 28,
   "metadata": {},
   "outputs": [
    {
     "data": {
      "text/html": [
       "<div>\n",
       "<style scoped>\n",
       "    .dataframe tbody tr th:only-of-type {\n",
       "        vertical-align: middle;\n",
       "    }\n",
       "\n",
       "    .dataframe tbody tr th {\n",
       "        vertical-align: top;\n",
       "    }\n",
       "\n",
       "    .dataframe thead th {\n",
       "        text-align: right;\n",
       "    }\n",
       "</style>\n",
       "<table border=\"1\" class=\"dataframe\">\n",
       "  <thead>\n",
       "    <tr style=\"text-align: right;\">\n",
       "      <th></th>\n",
       "      <th>0</th>\n",
       "      <th>1</th>\n",
       "      <th>2</th>\n",
       "    </tr>\n",
       "  </thead>\n",
       "  <tbody>\n",
       "    <tr>\n",
       "      <th>0</th>\n",
       "      <td>235.8333</td>\n",
       "      <td>324.0343</td>\n",
       "      <td>478.3231</td>\n",
       "    </tr>\n",
       "    <tr>\n",
       "      <th>1</th>\n",
       "      <td>236.2708</td>\n",
       "      <td>325.6379</td>\n",
       "      <td>515.4564</td>\n",
       "    </tr>\n",
       "    <tr>\n",
       "      <th>2</th>\n",
       "      <td>238.0521</td>\n",
       "      <td>328.0897</td>\n",
       "      <td>517.0909</td>\n",
       "    </tr>\n",
       "    <tr>\n",
       "      <th>3</th>\n",
       "      <td>235.9063</td>\n",
       "      <td>NaN</td>\n",
       "      <td>514.8900</td>\n",
       "    </tr>\n",
       "    <tr>\n",
       "      <th>4</th>\n",
       "      <td>236.7604</td>\n",
       "      <td>268.8324</td>\n",
       "      <td>NaN</td>\n",
       "    </tr>\n",
       "    <tr>\n",
       "      <th>5</th>\n",
       "      <td>NaN</td>\n",
       "      <td>404.0480</td>\n",
       "      <td>486.0912</td>\n",
       "    </tr>\n",
       "    <tr>\n",
       "      <th>6</th>\n",
       "      <td>237.4167</td>\n",
       "      <td>391.2652</td>\n",
       "      <td>516.2330</td>\n",
       "    </tr>\n",
       "    <tr>\n",
       "      <th>7</th>\n",
       "      <td>238.6563</td>\n",
       "      <td>380.8241</td>\n",
       "      <td>NaN</td>\n",
       "    </tr>\n",
       "    <tr>\n",
       "      <th>8</th>\n",
       "      <td>237.6042</td>\n",
       "      <td>388.0230</td>\n",
       "      <td>435.3508</td>\n",
       "    </tr>\n",
       "    <tr>\n",
       "      <th>9</th>\n",
       "      <td>238.0313</td>\n",
       "      <td>206.4349</td>\n",
       "      <td>487.6750</td>\n",
       "    </tr>\n",
       "    <tr>\n",
       "      <th>10</th>\n",
       "      <td>235.0729</td>\n",
       "      <td>NaN</td>\n",
       "      <td>NaN</td>\n",
       "    </tr>\n",
       "    <tr>\n",
       "      <th>11</th>\n",
       "      <td>235.5313</td>\n",
       "      <td>400.0787</td>\n",
       "      <td>660.2347</td>\n",
       "    </tr>\n",
       "    <tr>\n",
       "      <th>12</th>\n",
       "      <td>NaN</td>\n",
       "      <td>411.2069</td>\n",
       "      <td>621.2346</td>\n",
       "    </tr>\n",
       "    <tr>\n",
       "      <th>13</th>\n",
       "      <td>234.4688</td>\n",
       "      <td>395.2343</td>\n",
       "      <td>611.3408</td>\n",
       "    </tr>\n",
       "    <tr>\n",
       "      <th>14</th>\n",
       "      <td>235.5000</td>\n",
       "      <td>344.8221</td>\n",
       "      <td>643.0863</td>\n",
       "    </tr>\n",
       "    <tr>\n",
       "      <th>15</th>\n",
       "      <td>235.6354</td>\n",
       "      <td>385.6432</td>\n",
       "      <td>642.3482</td>\n",
       "    </tr>\n",
       "    <tr>\n",
       "      <th>16</th>\n",
       "      <td>234.5521</td>\n",
       "      <td>401.6234</td>\n",
       "      <td>NaN</td>\n",
       "    </tr>\n",
       "    <tr>\n",
       "      <th>17</th>\n",
       "      <td>236.0000</td>\n",
       "      <td>409.6489</td>\n",
       "      <td>602.9347</td>\n",
       "    </tr>\n",
       "    <tr>\n",
       "      <th>18</th>\n",
       "      <td>235.2396</td>\n",
       "      <td>416.8795</td>\n",
       "      <td>589.3457</td>\n",
       "    </tr>\n",
       "    <tr>\n",
       "      <th>19</th>\n",
       "      <td>235.4896</td>\n",
       "      <td>NaN</td>\n",
       "      <td>556.3452</td>\n",
       "    </tr>\n",
       "    <tr>\n",
       "      <th>20</th>\n",
       "      <td>236.9688</td>\n",
       "      <td>NaN</td>\n",
       "      <td>538.3470</td>\n",
       "    </tr>\n",
       "  </tbody>\n",
       "</table>\n",
       "</div>"
      ],
      "text/plain": [
       "           0         1         2\n",
       "0   235.8333  324.0343  478.3231\n",
       "1   236.2708  325.6379  515.4564\n",
       "2   238.0521  328.0897  517.0909\n",
       "3   235.9063       NaN  514.8900\n",
       "4   236.7604  268.8324       NaN\n",
       "5        NaN  404.0480  486.0912\n",
       "6   237.4167  391.2652  516.2330\n",
       "7   238.6563  380.8241       NaN\n",
       "8   237.6042  388.0230  435.3508\n",
       "9   238.0313  206.4349  487.6750\n",
       "10  235.0729       NaN       NaN\n",
       "11  235.5313  400.0787  660.2347\n",
       "12       NaN  411.2069  621.2346\n",
       "13  234.4688  395.2343  611.3408\n",
       "14  235.5000  344.8221  643.0863\n",
       "15  235.6354  385.6432  642.3482\n",
       "16  234.5521  401.6234       NaN\n",
       "17  236.0000  409.6489  602.9347\n",
       "18  235.2396  416.8795  589.3457\n",
       "19  235.4896       NaN  556.3452\n",
       "20  236.9688       NaN  538.3470"
      ]
     },
     "execution_count": 28,
     "metadata": {},
     "output_type": "execute_result"
    }
   ],
   "source": [
    "data"
   ]
  },
  {
   "cell_type": "code",
   "execution_count": 58,
   "metadata": {},
   "outputs": [],
   "source": [
    "def polyinterpolate_column(s, n, k=5):\n",
    "    \"\"\"拉格朗日插值函数\n",
    "    \n",
    "    s: Series\n",
    "    n: 为 nan 的行号。\n",
    "    k: nan 前后取几个值\n",
    "    \"\"\"\n",
    "    \n",
    "    interpolate_range = list(range(n-k, n)) + list(range(n+1, n+1+k)) # 插值位置 n 前后各取 k 行数据\n",
    "    y = s.reindex[interpolate_range]\n",
    "    y = y[y.notnull()] # 2k 条记录中去除空值\n",
    "    lagrange_func = lagrange(y.index, list(y))\n",
    "    return lagrange_func(n)"
   ]
  },
  {
   "cell_type": "code",
   "execution_count": 53,
   "metadata": {},
   "outputs": [],
   "source": [
    "for i in data.columns:\n",
    "    for j in range(len(data)):\n",
    "        if data[i].isnull()[j]:\n",
    "            data[i][j] = polyinterpolate_column(data[i], j)"
   ]
  },
  {
   "cell_type": "code",
   "execution_count": 54,
   "metadata": {},
   "outputs": [
    {
     "data": {
      "text/html": [
       "<div>\n",
       "<style scoped>\n",
       "    .dataframe tbody tr th:only-of-type {\n",
       "        vertical-align: middle;\n",
       "    }\n",
       "\n",
       "    .dataframe tbody tr th {\n",
       "        vertical-align: top;\n",
       "    }\n",
       "\n",
       "    .dataframe thead th {\n",
       "        text-align: right;\n",
       "    }\n",
       "</style>\n",
       "<table border=\"1\" class=\"dataframe\">\n",
       "  <thead>\n",
       "    <tr style=\"text-align: right;\">\n",
       "      <th></th>\n",
       "      <th>0</th>\n",
       "      <th>1</th>\n",
       "      <th>2</th>\n",
       "    </tr>\n",
       "  </thead>\n",
       "  <tbody>\n",
       "    <tr>\n",
       "      <th>0</th>\n",
       "      <td>235.833300</td>\n",
       "      <td>324.034300</td>\n",
       "      <td>478.323100</td>\n",
       "    </tr>\n",
       "    <tr>\n",
       "      <th>1</th>\n",
       "      <td>236.270800</td>\n",
       "      <td>325.637900</td>\n",
       "      <td>515.456400</td>\n",
       "    </tr>\n",
       "    <tr>\n",
       "      <th>2</th>\n",
       "      <td>238.052100</td>\n",
       "      <td>328.089700</td>\n",
       "      <td>517.090900</td>\n",
       "    </tr>\n",
       "    <tr>\n",
       "      <th>3</th>\n",
       "      <td>235.906300</td>\n",
       "      <td>203.462116</td>\n",
       "      <td>514.890000</td>\n",
       "    </tr>\n",
       "    <tr>\n",
       "      <th>4</th>\n",
       "      <td>236.760400</td>\n",
       "      <td>268.832400</td>\n",
       "      <td>493.352591</td>\n",
       "    </tr>\n",
       "    <tr>\n",
       "      <th>5</th>\n",
       "      <td>237.151181</td>\n",
       "      <td>404.048000</td>\n",
       "      <td>486.091200</td>\n",
       "    </tr>\n",
       "    <tr>\n",
       "      <th>6</th>\n",
       "      <td>237.416700</td>\n",
       "      <td>391.265200</td>\n",
       "      <td>516.233000</td>\n",
       "    </tr>\n",
       "    <tr>\n",
       "      <th>7</th>\n",
       "      <td>238.656300</td>\n",
       "      <td>380.824100</td>\n",
       "      <td>493.342382</td>\n",
       "    </tr>\n",
       "    <tr>\n",
       "      <th>8</th>\n",
       "      <td>237.604200</td>\n",
       "      <td>388.023000</td>\n",
       "      <td>435.350800</td>\n",
       "    </tr>\n",
       "    <tr>\n",
       "      <th>9</th>\n",
       "      <td>238.031300</td>\n",
       "      <td>206.434900</td>\n",
       "      <td>487.675000</td>\n",
       "    </tr>\n",
       "    <tr>\n",
       "      <th>10</th>\n",
       "      <td>235.072900</td>\n",
       "      <td>237.348072</td>\n",
       "      <td>609.193564</td>\n",
       "    </tr>\n",
       "    <tr>\n",
       "      <th>11</th>\n",
       "      <td>235.531300</td>\n",
       "      <td>400.078700</td>\n",
       "      <td>660.234700</td>\n",
       "    </tr>\n",
       "    <tr>\n",
       "      <th>12</th>\n",
       "      <td>235.314951</td>\n",
       "      <td>411.206900</td>\n",
       "      <td>621.234600</td>\n",
       "    </tr>\n",
       "    <tr>\n",
       "      <th>13</th>\n",
       "      <td>234.468800</td>\n",
       "      <td>395.234300</td>\n",
       "      <td>611.340800</td>\n",
       "    </tr>\n",
       "    <tr>\n",
       "      <th>14</th>\n",
       "      <td>235.500000</td>\n",
       "      <td>344.822100</td>\n",
       "      <td>643.086300</td>\n",
       "    </tr>\n",
       "    <tr>\n",
       "      <th>15</th>\n",
       "      <td>235.635400</td>\n",
       "      <td>385.643200</td>\n",
       "      <td>642.348200</td>\n",
       "    </tr>\n",
       "    <tr>\n",
       "      <th>16</th>\n",
       "      <td>234.552100</td>\n",
       "      <td>401.623400</td>\n",
       "      <td>618.197198</td>\n",
       "    </tr>\n",
       "    <tr>\n",
       "      <th>17</th>\n",
       "      <td>236.000000</td>\n",
       "      <td>409.648900</td>\n",
       "      <td>602.934700</td>\n",
       "    </tr>\n",
       "    <tr>\n",
       "      <th>18</th>\n",
       "      <td>235.239600</td>\n",
       "      <td>416.879500</td>\n",
       "      <td>589.345700</td>\n",
       "    </tr>\n",
       "    <tr>\n",
       "      <th>19</th>\n",
       "      <td>235.489600</td>\n",
       "      <td>420.748600</td>\n",
       "      <td>556.345200</td>\n",
       "    </tr>\n",
       "    <tr>\n",
       "      <th>20</th>\n",
       "      <td>236.968800</td>\n",
       "      <td>408.963200</td>\n",
       "      <td>538.347000</td>\n",
       "    </tr>\n",
       "  </tbody>\n",
       "</table>\n",
       "</div>"
      ],
      "text/plain": [
       "             0           1           2\n",
       "0   235.833300  324.034300  478.323100\n",
       "1   236.270800  325.637900  515.456400\n",
       "2   238.052100  328.089700  517.090900\n",
       "3   235.906300  203.462116  514.890000\n",
       "4   236.760400  268.832400  493.352591\n",
       "5   237.151181  404.048000  486.091200\n",
       "6   237.416700  391.265200  516.233000\n",
       "7   238.656300  380.824100  493.342382\n",
       "8   237.604200  388.023000  435.350800\n",
       "9   238.031300  206.434900  487.675000\n",
       "10  235.072900  237.348072  609.193564\n",
       "11  235.531300  400.078700  660.234700\n",
       "12  235.314951  411.206900  621.234600\n",
       "13  234.468800  395.234300  611.340800\n",
       "14  235.500000  344.822100  643.086300\n",
       "15  235.635400  385.643200  642.348200\n",
       "16  234.552100  401.623400  618.197198\n",
       "17  236.000000  409.648900  602.934700\n",
       "18  235.239600  416.879500  589.345700\n",
       "19  235.489600  420.748600  556.345200\n",
       "20  236.968800  408.963200  538.347000"
      ]
     },
     "execution_count": 54,
     "metadata": {},
     "output_type": "execute_result"
    }
   ],
   "source": [
    "data"
   ]
  },
  {
   "cell_type": "code",
   "execution_count": 57,
   "metadata": {},
   "outputs": [],
   "source": [
    "data.to_excel(outfile, header=None, index=False)"
   ]
  },
  {
   "cell_type": "markdown",
   "metadata": {},
   "source": [
    "# 后面部分是中间实验结果代码。"
   ]
  },
  {
   "cell_type": "code",
   "execution_count": null,
   "metadata": {},
   "outputs": [],
   "source": []
  },
  {
   "cell_type": "code",
   "execution_count": 50,
   "metadata": {},
   "outputs": [
    {
     "data": {
      "text/plain": [
       "Int64Index([0, 1, 2], dtype='int64')"
      ]
     },
     "execution_count": 50,
     "metadata": {},
     "output_type": "execute_result"
    }
   ],
   "source": [
    "data.columns"
   ]
  },
  {
   "cell_type": "code",
   "execution_count": 51,
   "metadata": {},
   "outputs": [
    {
     "data": {
      "text/plain": [
       "21"
      ]
     },
     "execution_count": 51,
     "metadata": {},
     "output_type": "execute_result"
    }
   ],
   "source": [
    "len(data)"
   ]
  },
  {
   "cell_type": "code",
   "execution_count": 28,
   "metadata": {},
   "outputs": [
    {
     "data": {
      "text/plain": [
       "True"
      ]
     },
     "execution_count": 28,
     "metadata": {},
     "output_type": "execute_result"
    }
   ],
   "source": [
    "(data.iloc[3].isnull())[1]"
   ]
  },
  {
   "cell_type": "code",
   "execution_count": 30,
   "metadata": {},
   "outputs": [],
   "source": [
    "ndata = np.array(data)"
   ]
  },
  {
   "cell_type": "code",
   "execution_count": 45,
   "metadata": {},
   "outputs": [
    {
     "data": {
      "text/plain": [
       "nan"
      ]
     },
     "execution_count": 45,
     "metadata": {},
     "output_type": "execute_result"
    }
   ],
   "source": [
    "ndata[3, 1]"
   ]
  },
  {
   "cell_type": "code",
   "execution_count": 48,
   "metadata": {},
   "outputs": [
    {
     "data": {
      "text/plain": [
       "(nan, float)"
      ]
     },
     "execution_count": 48,
     "metadata": {},
     "output_type": "execute_result"
    }
   ],
   "source": [
    "np.nan, type(np.nan)"
   ]
  },
  {
   "cell_type": "code",
   "execution_count": 71,
   "metadata": {},
   "outputs": [
    {
     "data": {
      "text/plain": [
       "0    235.8333\n",
       "1    324.0343\n",
       "2    478.3231\n",
       "Name: 0, dtype: float64"
      ]
     },
     "execution_count": 71,
     "metadata": {},
     "output_type": "execute_result"
    }
   ],
   "source": [
    "data.iloc[0]"
   ]
  },
  {
   "cell_type": "code",
   "execution_count": 67,
   "metadata": {},
   "outputs": [
    {
     "data": {
      "text/plain": [
       "array([235.8333, 236.2708, 238.0521, 235.9063, 236.7604,      nan,\n",
       "       237.4167, 238.6563, 237.6042, 238.0313, 235.0729, 235.5313,\n",
       "            nan, 234.4688, 235.5   , 235.6354, 234.5521, 236.    ,\n",
       "       235.2396, 235.4896, 236.9688])"
      ]
     },
     "execution_count": 67,
     "metadata": {},
     "output_type": "execute_result"
    }
   ],
   "source": [
    "data.values[:, 0]"
   ]
  },
  {
   "cell_type": "code",
   "execution_count": 68,
   "metadata": {},
   "outputs": [
    {
     "data": {
      "text/plain": [
       "235.8333"
      ]
     },
     "execution_count": 68,
     "metadata": {},
     "output_type": "execute_result"
    }
   ],
   "source": [
    "data.values[0][0]"
   ]
  },
  {
   "cell_type": "code",
   "execution_count": 74,
   "metadata": {},
   "outputs": [
    {
     "data": {
      "text/plain": [
       "(235.8333, pandas.core.frame.DataFrame)"
      ]
     },
     "execution_count": 74,
     "metadata": {},
     "output_type": "execute_result"
    }
   ],
   "source": [
    "data[0][0], type(data)"
   ]
  },
  {
   "cell_type": "code",
   "execution_count": 9,
   "metadata": {},
   "outputs": [],
   "source": [
    "s = data[0]"
   ]
  },
  {
   "cell_type": "code",
   "execution_count": 10,
   "metadata": {
    "collapsed": true,
    "jupyter": {
     "outputs_hidden": true
    }
   },
   "outputs": [
    {
     "data": {
      "text/plain": [
       "0     235.8333\n",
       "1     236.2708\n",
       "2     238.0521\n",
       "3     235.9063\n",
       "4     236.7604\n",
       "5          NaN\n",
       "6     237.4167\n",
       "7     238.6563\n",
       "8     237.6042\n",
       "9     238.0313\n",
       "10    235.0729\n",
       "11    235.5313\n",
       "12         NaN\n",
       "13    234.4688\n",
       "14    235.5000\n",
       "15    235.6354\n",
       "16    234.5521\n",
       "17    236.0000\n",
       "18    235.2396\n",
       "19    235.4896\n",
       "20    236.9688\n",
       "Name: 0, dtype: float64"
      ]
     },
     "execution_count": 10,
     "metadata": {},
     "output_type": "execute_result"
    }
   ],
   "source": [
    "s"
   ]
  },
  {
   "cell_type": "code",
   "execution_count": 11,
   "metadata": {},
   "outputs": [],
   "source": [
    "y = s[list(range(0,5)) + list(range(6, 11))]"
   ]
  },
  {
   "cell_type": "code",
   "execution_count": 12,
   "metadata": {
    "collapsed": true,
    "jupyter": {
     "outputs_hidden": true
    }
   },
   "outputs": [
    {
     "data": {
      "text/plain": [
       "0     235.8333\n",
       "1     236.2708\n",
       "2     238.0521\n",
       "3     235.9063\n",
       "4     236.7604\n",
       "6     237.4167\n",
       "7     238.6563\n",
       "8     237.6042\n",
       "9     238.0313\n",
       "10    235.0729\n",
       "Name: 0, dtype: float64"
      ]
     },
     "execution_count": 12,
     "metadata": {},
     "output_type": "execute_result"
    }
   ],
   "source": [
    "y"
   ]
  },
  {
   "cell_type": "code",
   "execution_count": 100,
   "metadata": {},
   "outputs": [],
   "source": [
    "y = y[y.notnull()]"
   ]
  },
  {
   "cell_type": "code",
   "execution_count": 15,
   "metadata": {},
   "outputs": [],
   "source": [
    "lagrange_func = lagrange(y.index, list(y))"
   ]
  },
  {
   "cell_type": "code",
   "execution_count": 16,
   "metadata": {},
   "outputs": [
    {
     "data": {
      "text/plain": [
       "237.15118134801764"
      ]
     },
     "execution_count": 16,
     "metadata": {},
     "output_type": "execute_result"
    }
   ],
   "source": [
    "lagrange_func(5)"
   ]
  },
  {
   "cell_type": "code",
   "execution_count": 13,
   "metadata": {},
   "outputs": [
    {
     "data": {
      "text/plain": [
       "Int64Index([0, 1, 2, 3, 4, 6, 7, 8, 9, 10], dtype='int64')"
      ]
     },
     "execution_count": 13,
     "metadata": {},
     "output_type": "execute_result"
    }
   ],
   "source": [
    "y.index"
   ]
  },
  {
   "cell_type": "code",
   "execution_count": 14,
   "metadata": {},
   "outputs": [
    {
     "data": {
      "text/plain": [
       "[235.8333,\n",
       " 236.2708,\n",
       " 238.0521,\n",
       " 235.9063,\n",
       " 236.7604,\n",
       " 237.4167,\n",
       " 238.6563,\n",
       " 237.6042,\n",
       " 238.0313,\n",
       " 235.0729]"
      ]
     },
     "execution_count": 14,
     "metadata": {},
     "output_type": "execute_result"
    }
   ],
   "source": [
    "list(y)"
   ]
  },
  {
   "cell_type": "code",
   "execution_count": 18,
   "metadata": {
    "collapsed": true,
    "jupyter": {
     "outputs_hidden": true
    }
   },
   "outputs": [
    {
     "name": "stdout",
     "output_type": "stream",
     "text": [
      "0 ----> 235.8333\n",
      "1 ----> 236.2707999999996\n",
      "2 ----> 238.0520999999796\n",
      "3 ----> 235.90629999987254\n",
      "4 ----> 236.7603999995524\n",
      "6 ----> 237.4166999972976\n",
      "7 ----> 238.65629999433978\n",
      "8 ----> 237.6041999887545\n",
      "9 ----> 238.03129997820744\n",
      "10 ----> 235.07289995882735\n"
     ]
    }
   ],
   "source": [
    "for i in y.index:\n",
    "    print(i, '---->', lagrange_func(i))"
   ]
  },
  {
   "cell_type": "code",
   "execution_count": 23,
   "metadata": {},
   "outputs": [
    {
     "data": {
      "text/plain": [
       "0     235.8333\n",
       "1     236.2708\n",
       "2     238.0521\n",
       "3     235.9063\n",
       "4     236.7604\n",
       "5          NaN\n",
       "6     237.4167\n",
       "7     238.6563\n",
       "8     237.6042\n",
       "9     238.0313\n",
       "10    235.0729\n",
       "11    235.5313\n",
       "12         NaN\n",
       "13    234.4688\n",
       "14    235.5000\n",
       "15    235.6354\n",
       "16    234.5521\n",
       "17    236.0000\n",
       "18    235.2396\n",
       "19    235.4896\n",
       "20    236.9688\n",
       "Name: 0, dtype: float64"
      ]
     },
     "execution_count": 23,
     "metadata": {},
     "output_type": "execute_result"
    }
   ],
   "source": [
    "data[0]"
   ]
  },
  {
   "cell_type": "code",
   "execution_count": 24,
   "metadata": {},
   "outputs": [
    {
     "data": {
      "text/plain": [
       "nan"
      ]
     },
     "execution_count": 24,
     "metadata": {},
     "output_type": "execute_result"
    }
   ],
   "source": [
    "data[0][12]"
   ]
  },
  {
   "cell_type": "code",
   "execution_count": 27,
   "metadata": {},
   "outputs": [
    {
     "data": {
      "text/plain": [
       "True"
      ]
     },
     "execution_count": 27,
     "metadata": {},
     "output_type": "execute_result"
    }
   ],
   "source": [
    "data[0].isnull()[5]"
   ]
  },
  {
   "cell_type": "code",
   "execution_count": 29,
   "metadata": {},
   "outputs": [
    {
     "data": {
      "text/plain": [
       "nan"
      ]
     },
     "execution_count": 29,
     "metadata": {},
     "output_type": "execute_result"
    }
   ],
   "source": [
    "data[2][4]"
   ]
  },
  {
   "cell_type": "code",
   "execution_count": 35,
   "metadata": {},
   "outputs": [],
   "source": [
    "ndata = np.array(data)"
   ]
  },
  {
   "cell_type": "code",
   "execution_count": 36,
   "metadata": {},
   "outputs": [
    {
     "data": {
      "text/plain": [
       "numpy.ndarray"
      ]
     },
     "execution_count": 36,
     "metadata": {},
     "output_type": "execute_result"
    }
   ],
   "source": [
    "type(ndata)"
   ]
  },
  {
   "cell_type": "code",
   "execution_count": 37,
   "metadata": {},
   "outputs": [
    {
     "data": {
      "text/plain": [
       "array([[235.8333, 324.0343, 478.3231],\n",
       "       [236.2708, 325.6379, 515.4564],\n",
       "       [238.0521, 328.0897, 517.0909],\n",
       "       [235.9063,      nan, 514.89  ],\n",
       "       [236.7604, 268.8324,      nan],\n",
       "       [     nan, 404.048 , 486.0912],\n",
       "       [237.4167, 391.2652, 516.233 ],\n",
       "       [238.6563, 380.8241,      nan],\n",
       "       [237.6042, 388.023 , 435.3508],\n",
       "       [238.0313, 206.4349, 487.675 ],\n",
       "       [235.0729,      nan,      nan],\n",
       "       [235.5313, 400.0787, 660.2347],\n",
       "       [     nan, 411.2069, 621.2346],\n",
       "       [234.4688, 395.2343, 611.3408],\n",
       "       [235.5   , 344.8221, 643.0863],\n",
       "       [235.6354, 385.6432, 642.3482],\n",
       "       [234.5521, 401.6234,      nan],\n",
       "       [236.    , 409.6489, 602.9347],\n",
       "       [235.2396, 416.8795, 589.3457],\n",
       "       [235.4896,      nan, 556.3452],\n",
       "       [236.9688,      nan, 538.347 ]])"
      ]
     },
     "execution_count": 37,
     "metadata": {},
     "output_type": "execute_result"
    }
   ],
   "source": [
    "ndata"
   ]
  },
  {
   "cell_type": "code",
   "execution_count": 41,
   "metadata": {},
   "outputs": [
    {
     "data": {
      "text/plain": [
       "(nan, nan)"
      ]
     },
     "execution_count": 41,
     "metadata": {},
     "output_type": "execute_result"
    }
   ],
   "source": [
    "ndata[3, 1], ndata[3][1] \n",
    "# 注意DataFrame 和 ndarray取值的区别， \n",
    "# 1. ndarray第一个下标是行，第二个是列；DF 相反。\n",
    "# 2. ndarray支持 1 个或者 2 中括号定位到单个元素；DF只能用两个括号；第一个括号定位到 Series， 第二个定位到元素。"
   ]
  },
  {
   "cell_type": "code",
   "execution_count": 44,
   "metadata": {},
   "outputs": [
    {
     "data": {
      "text/plain": [
       "nan"
      ]
     },
     "execution_count": 44,
     "metadata": {},
     "output_type": "execute_result"
    }
   ],
   "source": [
    "data[0][5]# 只能用两个括号定位。"
   ]
  },
  {
   "cell_type": "code",
   "execution_count": null,
   "metadata": {},
   "outputs": [],
   "source": []
  }
 ],
 "metadata": {
  "kernelspec": {
   "display_name": "Python 3",
   "language": "python",
   "name": "python3"
  },
  "language_info": {
   "codemirror_mode": {
    "name": "ipython",
    "version": 3
   },
   "file_extension": ".py",
   "mimetype": "text/x-python",
   "name": "python",
   "nbconvert_exporter": "python",
   "pygments_lexer": "ipython3",
   "version": "3.7.4"
  }
 },
 "nbformat": 4,
 "nbformat_minor": 4
}
